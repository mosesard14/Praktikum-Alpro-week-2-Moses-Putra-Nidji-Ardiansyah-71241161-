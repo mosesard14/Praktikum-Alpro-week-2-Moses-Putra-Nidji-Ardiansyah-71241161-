{
  "nbformat": 4,
  "nbformat_minor": 0,
  "metadata": {
    "colab": {
      "provenance": [],
      "authorship_tag": "ABX9TyPlDG8mZ1+dIz6/aA+Rllze",
      "include_colab_link": true
    },
    "kernelspec": {
      "name": "python3",
      "display_name": "Python 3"
    },
    "language_info": {
      "name": "python"
    }
  },
  "cells": [
    {
      "cell_type": "markdown",
      "metadata": {
        "id": "view-in-github",
        "colab_type": "text"
      },
      "source": [
        "<a href=\"https://colab.research.google.com/github/mosesard14/Praktikum-Alpro-week-2-Moses-Putra-Nidji-Ardiansyah-71241161-/blob/main/Latihan_Mandiri_2_1_71241161.ipynb\" target=\"_parent\"><img src=\"https://colab.research.google.com/assets/colab-badge.svg\" alt=\"Open In Colab\"/></a>"
      ]
    },
    {
      "cell_type": "code",
      "execution_count": 12,
      "metadata": {
        "colab": {
          "base_uri": "https://localhost:8080/"
        },
        "id": "mQieVl3OolZq",
        "outputId": "d2720f36-4950-4965-f866-fccb87543f57"
      },
      "outputs": [
        {
          "output_type": "stream",
          "name": "stdout",
          "text": [
            "Masukkan tinggi badan (meter): 1.52\n",
            "Masukkan BMI (Boddy Mass Index) yang diinginkan:22\n",
            "berat badan yang diperlukan untuk BMI 22.0 adalah 50.8288 kg\n"
          ]
        }
      ],
      "source": [
        "def hitung_bmi():\n",
        "  tinggi = float(input(\"Masukkan tinggi badan (meter): \"))\n",
        "  bmi_target = float(input(\"Masukkan BMI (Boddy Mass Index) yang diinginkan:\"))\n",
        "  berat_diperlukan = bmi_target * (tinggi ** 2)\n",
        "  print(f\"berat badan yang diperlukan untuk BMI {bmi_target} adalah {berat_diperlukan} kg\" )\n",
        "hitung_bmi()"
      ]
    }
  ]
}