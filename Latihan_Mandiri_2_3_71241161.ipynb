{
  "nbformat": 4,
  "nbformat_minor": 0,
  "metadata": {
    "colab": {
      "provenance": [],
      "authorship_tag": "ABX9TyMpsUX5zh7Y1wZEtH812eIy",
      "include_colab_link": true
    },
    "kernelspec": {
      "name": "python3",
      "display_name": "Python 3"
    },
    "language_info": {
      "name": "python"
    }
  },
  "cells": [
    {
      "cell_type": "markdown",
      "metadata": {
        "id": "view-in-github",
        "colab_type": "text"
      },
      "source": [
        "<a href=\"https://colab.research.google.com/github/mosesard14/Praktikum-Alpro-week-2-Moses-Putra-Nidji-Ardiansyah-71241161-/blob/main/Latihan_Mandiri_2_3_71241161.ipynb\" target=\"_parent\"><img src=\"https://colab.research.google.com/assets/colab-badge.svg\" alt=\"Open In Colab\"/></a>"
      ]
    },
    {
      "cell_type": "code",
      "execution_count": 17,
      "metadata": {
        "colab": {
          "base_uri": "https://localhost:8080/"
        },
        "id": "5-3Q1bGW-_5k",
        "outputId": "9f3ea0b7-ba05-46d9-b2d5-4d1e6bbe5345"
      },
      "outputs": [
        {
          "output_type": "stream",
          "name": "stdout",
          "text": [
            "Masukkan gaji per jam (Rp): 25000\n",
            "Masukkan jumlah jam kerja seminggu : 40\n",
            "Gaji yang diterima sebelum potongan pajak sebesar : Rp (5,000,000.00)\n",
            "Gaji yang diterima setelah potongan pajak sebesar: Rp (4,300,000.00)\n",
            "Pengeluaran pakian dan aksesoris sebesar: Rp (430,000.00)\n",
            "Pengeluaran alat tulis sebesar: Rp (43,000.00)\n",
            "Jumlah uang yang akan di sedekahkan: Rp (978,250.00)\n",
            "Jumlah uang yang akan di sedekahkan untuk anak yatim: Rp (293,475.00)\n",
            "Jumlah uang yang akan di sedekahkan untuk kaum dhuafa: Rp (684,775.00)\n",
            "gaji_diterima_setelah_pengeluaran: (2,848,750.00)\n"
          ]
        }
      ],
      "source": [
        "def hitung_gaji():\n",
        "  gaji_per_jam = float(input(\"Masukkan gaji per jam (Rp): \"))\n",
        "  jam_kerja = float(input(\"Masukkan jumlah jam kerja seminggu : \"))\n",
        "  jumlah_minggu = 5\n",
        "\n",
        "  gaji_kotor = gaji_per_jam * jam_kerja * jumlah_minggu\n",
        "  print(f\"Gaji yang diterima sebelum potongan pajak sebesar : Rp ({gaji_kotor:,.2f})\")\n",
        "\n",
        "  pajak = 0.14 * gaji_kotor\n",
        "  gaji_bersih = gaji_kotor - pajak\n",
        "  print(f\"Gaji yang diterima setelah potongan pajak sebesar: Rp ({gaji_bersih:,.2f})\")\n",
        "\n",
        "  pengeluaran_pakian = 0.10 * gaji_bersih\n",
        "  print(f\"Pengeluaran pakian dan aksesoris sebesar: Rp ({pengeluaran_pakian:,.2f})\")\n",
        "\n",
        "  pengeluaran_alat_tulis = 0.01 * gaji_bersih\n",
        "  print(f\"Pengeluaran alat tulis sebesar: Rp ({pengeluaran_alat_tulis:,.2f})\")\n",
        "\n",
        "  sisa_gaji = gaji_bersih - (pengeluaran_pakian - pengeluaran_alat_tulis )\n",
        "  sedekah = 0.25 * sisa_gaji\n",
        "  print(f\"Jumlah uang yang akan di sedekahkan: Rp ({sedekah:,.2f})\")\n",
        "\n",
        "  sedekah_anak_yatim = 0.30  * sedekah\n",
        "  sedekah_kaum_dhuafa = 0.70 * sedekah\n",
        "  print(f\"Jumlah uang yang akan di sedekahkan untuk anak yatim: Rp ({sedekah_anak_yatim:,.2f})\")\n",
        "  print(f\"Jumlah uang yang akan di sedekahkan untuk kaum dhuafa: Rp ({sedekah_kaum_dhuafa:,.2f})\")\n",
        "\n",
        "  gaji_diterima_setelah_pengeluaran = gaji_bersih - (pengeluaran_pakian + pengeluaran_alat_tulis + sedekah)\n",
        "  print(f\"gaji_diterima_setelah_pengeluaran: ({gaji_diterima_setelah_pengeluaran:,.2f})\")\n",
        "\n",
        "hitung_gaji()"
      ]
    }
  ]
}